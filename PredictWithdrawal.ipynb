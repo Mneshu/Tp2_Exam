{
 "cells": [
  {
   "cell_type": "code",
   "execution_count": 63,
   "id": "8116fe4f-ca83-4280-a001-2e7d1d2e688a",
   "metadata": {},
   "outputs": [],
   "source": [
    "import pandas as pd\n",
    "from sklearn.model_selection import train_test_split\n",
    "from sklearn.linear_model import LogisticRegression\n",
    "from sklearn.linear_model import LinearRegression\n",
    "from sklearn.metrics import classification_report, confusion_matrix\n",
    "from sklearn.metrics import accuracy_score, mean_squared_error, r2_score\n",
    "from sklearn.tree import DecisionTreeClassifier\n",
    "from sklearn.tree import DecisionTreeClassifier, plot_tree\n",
    "import matplotlib.pyplot as plt\n",
    "from sklearn.metrics import accuracy_score, confusion_matrix\n",
    "import seaborn as sns\n",
    "import numpy as np\n"
   ]
  },
  {
   "cell_type": "code",
   "execution_count": 10,
   "id": "e46679bb-339d-4f6c-a5df-86cbd4de8a26",
   "metadata": {},
   "outputs": [],
   "source": [
    "data = pd.read_csv('C:/Users/Sfundesihle/Downloads/Louisville_Metro_KY_-_Employee_Salary_Data.csv')"
   ]
  },
  {
   "cell_type": "code",
   "execution_count": 11,
   "id": "6a2aa49d-17ce-4535-b36a-2924d5d33712",
   "metadata": {},
   "outputs": [
    {
     "data": {
      "text/html": [
       "<div>\n",
       "<style scoped>\n",
       "    .dataframe tbody tr th:only-of-type {\n",
       "        vertical-align: middle;\n",
       "    }\n",
       "\n",
       "    .dataframe tbody tr th {\n",
       "        vertical-align: top;\n",
       "    }\n",
       "\n",
       "    .dataframe thead th {\n",
       "        text-align: right;\n",
       "    }\n",
       "</style>\n",
       "<table border=\"1\" class=\"dataframe\">\n",
       "  <thead>\n",
       "    <tr style=\"text-align: right;\">\n",
       "      <th></th>\n",
       "      <th>CalYear</th>\n",
       "      <th>Employee_Name</th>\n",
       "      <th>Department</th>\n",
       "      <th>jobTitle</th>\n",
       "      <th>Annual_Rate</th>\n",
       "      <th>Regular_Rate</th>\n",
       "      <th>Overtime_Rate</th>\n",
       "      <th>Incentive_Allowance</th>\n",
       "      <th>Other</th>\n",
       "      <th>YTD_Total</th>\n",
       "      <th>ObjectId</th>\n",
       "    </tr>\n",
       "  </thead>\n",
       "  <tbody>\n",
       "    <tr>\n",
       "      <th>0</th>\n",
       "      <td>2024</td>\n",
       "      <td>Tucker, Sara C</td>\n",
       "      <td>Revenue Commission</td>\n",
       "      <td>Revenue Supervisor</td>\n",
       "      <td>77043.2</td>\n",
       "      <td>46250.36</td>\n",
       "      <td>0.00</td>\n",
       "      <td>0.00</td>\n",
       "      <td>NaN</td>\n",
       "      <td>46250.36</td>\n",
       "      <td>1</td>\n",
       "    </tr>\n",
       "    <tr>\n",
       "      <th>1</th>\n",
       "      <td>2024</td>\n",
       "      <td>Thompson, Rochelle Lamont</td>\n",
       "      <td>Facilities and Fleet Management</td>\n",
       "      <td>Laborer-TM</td>\n",
       "      <td>37814.4</td>\n",
       "      <td>1454.40</td>\n",
       "      <td>0.00</td>\n",
       "      <td>0.00</td>\n",
       "      <td>NaN</td>\n",
       "      <td>1454.40</td>\n",
       "      <td>2</td>\n",
       "    </tr>\n",
       "    <tr>\n",
       "      <th>2</th>\n",
       "      <td>2024</td>\n",
       "      <td>Turner, Erica Ever</td>\n",
       "      <td>Metro Council</td>\n",
       "      <td>Administrative Assistant S3</td>\n",
       "      <td>71032.0</td>\n",
       "      <td>42642.80</td>\n",
       "      <td>0.00</td>\n",
       "      <td>0.00</td>\n",
       "      <td>NaN</td>\n",
       "      <td>42642.80</td>\n",
       "      <td>3</td>\n",
       "    </tr>\n",
       "    <tr>\n",
       "      <th>3</th>\n",
       "      <td>2024</td>\n",
       "      <td>Davies, Demetre D.</td>\n",
       "      <td>Public Works &amp; Assets</td>\n",
       "      <td>Sanitation Tipper</td>\n",
       "      <td>41766.4</td>\n",
       "      <td>26558.10</td>\n",
       "      <td>311.34</td>\n",
       "      <td>0.00</td>\n",
       "      <td>NaN</td>\n",
       "      <td>26869.44</td>\n",
       "      <td>4</td>\n",
       "    </tr>\n",
       "    <tr>\n",
       "      <th>4</th>\n",
       "      <td>2024</td>\n",
       "      <td>White, Michael A</td>\n",
       "      <td>Louisville Metro Police Department</td>\n",
       "      <td>Police Lieutenant</td>\n",
       "      <td>134555.2</td>\n",
       "      <td>81593.92</td>\n",
       "      <td>9994.56</td>\n",
       "      <td>2999.16</td>\n",
       "      <td>NaN</td>\n",
       "      <td>94869.88</td>\n",
       "      <td>5</td>\n",
       "    </tr>\n",
       "  </tbody>\n",
       "</table>\n",
       "</div>"
      ],
      "text/plain": [
       "   CalYear              Employee_Name                          Department  \\\n",
       "0     2024             Tucker, Sara C                  Revenue Commission   \n",
       "1     2024  Thompson, Rochelle Lamont     Facilities and Fleet Management   \n",
       "2     2024         Turner, Erica Ever                       Metro Council   \n",
       "3     2024         Davies, Demetre D.               Public Works & Assets   \n",
       "4     2024           White, Michael A  Louisville Metro Police Department   \n",
       "\n",
       "                      jobTitle  Annual_Rate  Regular_Rate  Overtime_Rate  \\\n",
       "0           Revenue Supervisor      77043.2      46250.36           0.00   \n",
       "1                   Laborer-TM      37814.4       1454.40           0.00   \n",
       "2  Administrative Assistant S3      71032.0      42642.80           0.00   \n",
       "3            Sanitation Tipper      41766.4      26558.10         311.34   \n",
       "4            Police Lieutenant     134555.2      81593.92        9994.56   \n",
       "\n",
       "   Incentive_Allowance  Other  YTD_Total  ObjectId  \n",
       "0                 0.00    NaN   46250.36         1  \n",
       "1                 0.00    NaN    1454.40         2  \n",
       "2                 0.00    NaN   42642.80         3  \n",
       "3                 0.00    NaN   26869.44         4  \n",
       "4              2999.16    NaN   94869.88         5  "
      ]
     },
     "execution_count": 11,
     "metadata": {},
     "output_type": "execute_result"
    }
   ],
   "source": [
    "data.head()"
   ]
  },
  {
   "cell_type": "code",
   "execution_count": 28,
   "id": "8c30a1a3-5ca9-443b-b01c-9f59fb956ce3",
   "metadata": {},
   "outputs": [],
   "source": [
    "\n",
    "\n",
    "# Features and target\n",
    "X = data[['Annual_Rate']]\n",
    "y = data['Regular_Rate']\n",
    "\n",
    "\n"
   ]
  },
  {
   "cell_type": "code",
   "execution_count": 31,
   "id": "64ab8d30-a904-4125-bab7-0f6094b406af",
   "metadata": {},
   "outputs": [],
   "source": [
    "X_train, X_test, y_train, y_test = train_test_split(X, y, test_size=0.3, random_state=42)"
   ]
  },
  {
   "cell_type": "code",
   "execution_count": 43,
   "id": "45191b57-7fef-4395-8ccd-f28781fb84c3",
   "metadata": {},
   "outputs": [
    {
     "name": "stdout",
     "output_type": "stream",
     "text": [
      "Logistic Regression Accuracy: 0.9811196847808241\n"
     ]
    }
   ],
   "source": [
    "logistic_model = LogisticRegression()\n",
    "y_train_binary = (y_train > 0).astype(int)  \n",
    "logistic_model.fit(X_train, y_train_binary)  \n",
    "y_pred_logistic = logistic_model.predict(X_test) \n",
    "accuracy = accuracy_score(y_test > 0, y_pred_logistic)  \n",
    "print(\"Logistic Regression Accuracy:\", accuracy)"
   ]
  },
  {
   "cell_type": "code",
   "execution_count": 71,
   "id": "7f78e3ac-fbfb-480c-9af8-f2023646b05c",
   "metadata": {},
   "outputs": [
    {
     "data": {
      "image/png": "[encoded data removed]",
      "text/plain": [
       "<Figure size 800x600 with 2 Axes>"
      ]
     },
     "metadata": {},
     "output_type": "display_data"
    }
   ],
   "source": [
    "\n",
    "conf_matrix = confusion_matrix(y_test, y_pred_tree)\n",
    "\n",
    "plt.figure(figsize=(8, 6))\n",
    "sns.heatmap(conf_matrix, annot=True, fmt='d', cmap='Blues', xticklabels=np.unique(y), yticklabels=np.unique(y))\n",
    "plt.title('Confusion Matrix')\n",
    "plt.xlabel('Predicted Label')\n",
    "plt.ylabel('True Label')\n",
    "plt.show()\n"
   ]
  },
  {
   "cell_type": "code",
   "execution_count": null,
   "id": "81fa6259-7624-4b4c-85e8-106718b4f39c",
   "metadata": {},
   "outputs": [],
   "source": []
  }
 ],
 "metadata": {
  "kernelspec": {
   "display_name": "Python 3 (ipykernel)",
   "language": "python",
   "name": "python3"
  },
  "language_info": {
   "codemirror_mode": {
    "name": "ipython",
    "version": 3
   },
   "file_extension": ".py",
   "mimetype": "text/x-python",
   "name": "python",
   "nbconvert_exporter": "python",
   "pygments_lexer": "ipython3",
   "version": "3.9.5"
  }
 },
 "nbformat": 4,
 "nbformat_minor": 5
}

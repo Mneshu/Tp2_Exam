{
 "cells": [
  {
   "cell_type": "code",
   "execution_count": 3,
   "id": "160ae2e4-4242-4665-996f-5d4f6d32f5c0",
   "metadata": {},
   "outputs": [],
   "source": [
    "import pandas as pd\n",
    "import matplotlib.pyplot as plt\n",
    "from prophet import Prophet\n",
    "from sklearn.metrics import mean_squared_error\n"
   ]
  },
  {
   "cell_type": "code",
   "execution_count": 9,
   "id": "01058f7e-a49c-4dab-b791-a28c9246b399",
   "metadata": {},
   "outputs": [],
   "source": [
    "df = pd.read_csv('C:/Users/Sfundesihle/Downloads/redacted-2022-december-31-wprdc.csv')"
   ]
  },
  {
   "cell_type": "code",
   "execution_count": 10,
   "id": "a1aa4aa1-3fcc-42cf-96a4-87719f352eff",
   "metadata": {},
   "outputs": [
    {
     "data": {
      "text/html": [
       "<div>\n",
       "<style scoped>\n",
       "    .dataframe tbody tr th:only-of-type {\n",
       "        vertical-align: middle;\n",
       "    }\n",
       "\n",
       "    .dataframe tbody tr th {\n",
       "        vertical-align: top;\n",
       "    }\n",
       "\n",
       "    .dataframe thead th {\n",
       "        text-align: right;\n",
       "    }\n",
       "</style>\n",
       "<table border=\"1\" class=\"dataframe\">\n",
       "  <thead>\n",
       "    <tr style=\"text-align: right;\">\n",
       "      <th></th>\n",
       "      <th>FIRST_NAME</th>\n",
       "      <th>LAST_NAME</th>\n",
       "      <th>Combo Name</th>\n",
       "      <th>DEPARTMENT</th>\n",
       "      <th>JOB_TITLE</th>\n",
       "      <th>ELECTED_OFFICIAL</th>\n",
       "      <th>DATE_STARTED</th>\n",
       "      <th>SEX</th>\n",
       "      <th>ETHNICITY</th>\n",
       "      <th>ORIG_START</th>\n",
       "      <th>DATE_TERM</th>\n",
       "      <th>PAY_STATUS</th>\n",
       "      <th>ANNUAL_SALARY</th>\n",
       "      <th>REGULAR_PAY</th>\n",
       "      <th>OVERTIME_PAY</th>\n",
       "      <th>INCENTIVE_PAY</th>\n",
       "      <th>GROSS_PAY</th>\n",
       "      <th>Unnamed: 17</th>\n",
       "    </tr>\n",
       "  </thead>\n",
       "  <tbody>\n",
       "    <tr>\n",
       "      <th>0</th>\n",
       "      <td>CATHERINE</td>\n",
       "      <td>ABALO</td>\n",
       "      <td>ABALO, CATHERINE</td>\n",
       "      <td>Kane Regional Centers</td>\n",
       "      <td>NURSING ASSISTANT</td>\n",
       "      <td>0</td>\n",
       "      <td>4/8/2010</td>\n",
       "      <td>F</td>\n",
       "      <td>Black</td>\n",
       "      <td>7/6/2009</td>\n",
       "      <td>NaN</td>\n",
       "      <td>Active</td>\n",
       "      <td>41,581.07</td>\n",
       "      <td>40,740.50</td>\n",
       "      <td>23,416.98</td>\n",
       "      <td>125.00</td>\n",
       "      <td>64,282.48</td>\n",
       "      <td>NaN</td>\n",
       "    </tr>\n",
       "    <tr>\n",
       "      <th>1</th>\n",
       "      <td>KEVIN J</td>\n",
       "      <td>ABBOTT</td>\n",
       "      <td>ABBOTT, KEVIN J</td>\n",
       "      <td>Emergency Management</td>\n",
       "      <td>FIRE INSTRUCTOR - PART TIME</td>\n",
       "      <td>0</td>\n",
       "      <td>6/11/2018</td>\n",
       "      <td>M</td>\n",
       "      <td>White (Not of Hispanic Origin)</td>\n",
       "      <td>6/11/2018</td>\n",
       "      <td>NaN</td>\n",
       "      <td>Active</td>\n",
       "      <td>30,576.00</td>\n",
       "      <td>378.00</td>\n",
       "      <td>-</td>\n",
       "      <td>-</td>\n",
       "      <td>378.00</td>\n",
       "      <td>NaN</td>\n",
       "    </tr>\n",
       "    <tr>\n",
       "      <th>2</th>\n",
       "      <td>JOY M</td>\n",
       "      <td>ABBOTT</td>\n",
       "      <td>ABBOTT, JOY M</td>\n",
       "      <td>Kane Regional Centers</td>\n",
       "      <td>COOK</td>\n",
       "      <td>0</td>\n",
       "      <td>2/14/1999</td>\n",
       "      <td>F</td>\n",
       "      <td>White (Not of Hispanic Origin)</td>\n",
       "      <td>2/2/1998</td>\n",
       "      <td>NaN</td>\n",
       "      <td>Active</td>\n",
       "      <td>40,761.76</td>\n",
       "      <td>44,015.85</td>\n",
       "      <td>1,923.77</td>\n",
       "      <td>225.00</td>\n",
       "      <td>46,164.62</td>\n",
       "      <td>NaN</td>\n",
       "    </tr>\n",
       "    <tr>\n",
       "      <th>3</th>\n",
       "      <td>ELIZABETH S</td>\n",
       "      <td>ABRAHAM</td>\n",
       "      <td>ABRAHAM, ELIZABETH S</td>\n",
       "      <td>Parks</td>\n",
       "      <td>SEASONAL AIDE</td>\n",
       "      <td>0</td>\n",
       "      <td>5/26/2022</td>\n",
       "      <td>F</td>\n",
       "      <td>White (Not of Hispanic Origin)</td>\n",
       "      <td>5/26/2022</td>\n",
       "      <td>9/5/2022</td>\n",
       "      <td>Terminated</td>\n",
       "      <td>39,936.00</td>\n",
       "      <td>6,488.00</td>\n",
       "      <td>-</td>\n",
       "      <td>100.00</td>\n",
       "      <td>6,588.00</td>\n",
       "      <td>NaN</td>\n",
       "    </tr>\n",
       "    <tr>\n",
       "      <th>4</th>\n",
       "      <td>JASMINE</td>\n",
       "      <td>ABRAM</td>\n",
       "      <td>ABRAM, JASMINE</td>\n",
       "      <td>Emergency Management</td>\n",
       "      <td>TELECOMMUNICATION OFFICER</td>\n",
       "      <td>0</td>\n",
       "      <td>5/23/2022</td>\n",
       "      <td>F</td>\n",
       "      <td>Black</td>\n",
       "      <td>5/31/2016</td>\n",
       "      <td>NaN</td>\n",
       "      <td>Active</td>\n",
       "      <td>52,240.03</td>\n",
       "      <td>25,637.96</td>\n",
       "      <td>15,994.95</td>\n",
       "      <td>125.00</td>\n",
       "      <td>41,757.91</td>\n",
       "      <td>NaN</td>\n",
       "    </tr>\n",
       "  </tbody>\n",
       "</table>\n",
       "</div>"
      ],
      "text/plain": [
       "    FIRST_NAME LAST_NAME            Combo Name             DEPARTMENT  \\\n",
       "0    CATHERINE     ABALO      ABALO, CATHERINE  Kane Regional Centers   \n",
       "1      KEVIN J    ABBOTT       ABBOTT, KEVIN J   Emergency Management   \n",
       "2        JOY M    ABBOTT         ABBOTT, JOY M  Kane Regional Centers   \n",
       "3  ELIZABETH S   ABRAHAM  ABRAHAM, ELIZABETH S                  Parks   \n",
       "4      JASMINE     ABRAM        ABRAM, JASMINE   Emergency Management   \n",
       "\n",
       "                     JOB_TITLE  ELECTED_OFFICIAL DATE_STARTED SEX  \\\n",
       "0            NURSING ASSISTANT                 0     4/8/2010   F   \n",
       "1  FIRE INSTRUCTOR - PART TIME                 0    6/11/2018   M   \n",
       "2                         COOK                 0    2/14/1999   F   \n",
       "3                SEASONAL AIDE                 0    5/26/2022   F   \n",
       "4    TELECOMMUNICATION OFFICER                 0    5/23/2022   F   \n",
       "\n",
       "                        ETHNICITY ORIG_START DATE_TERM  PAY_STATUS  \\\n",
       "0                           Black   7/6/2009       NaN      Active   \n",
       "1  White (Not of Hispanic Origin)  6/11/2018       NaN      Active   \n",
       "2  White (Not of Hispanic Origin)   2/2/1998       NaN      Active   \n",
       "3  White (Not of Hispanic Origin)  5/26/2022  9/5/2022  Terminated   \n",
       "4                           Black  5/31/2016       NaN      Active   \n",
       "\n",
       "   ANNUAL_SALARY   REGULAR_PAY   OVERTIME_PAY   INCENTIVE_PAY    GROSS_PAY   \\\n",
       "0      41,581.07     40,740.50      23,416.98          125.00    64,282.48    \n",
       "1      30,576.00        378.00            -               -         378.00    \n",
       "2      40,761.76     44,015.85       1,923.77          225.00    46,164.62    \n",
       "3      39,936.00      6,488.00            -            100.00     6,588.00    \n",
       "4      52,240.03     25,637.96      15,994.95          125.00    41,757.91    \n",
       "\n",
       "  Unnamed: 17  \n",
       "0         NaN  \n",
       "1         NaN  \n",
       "2         NaN  \n",
       "3         NaN  \n",
       "4         NaN  "
      ]
     },
     "execution_count": 10,
     "metadata": {},
     "output_type": "execute_result"
    }
   ],
   "source": [
    "df.head(5)"
   ]
  },
  {
   "cell_type": "code",
   "execution_count": 12,
   "id": "97e09bce-3461-488d-8929-00b242b8b440",
   "metadata": {},
   "outputs": [
    {
     "data": {
      "text/plain": [
       "FIRST_NAME             0\n",
       "LAST_NAME              0\n",
       "Combo Name             0\n",
       "DEPARTMENT             0\n",
       "JOB_TITLE              0\n",
       "ELECTED_OFFICIAL       0\n",
       "DATE_STARTED           0\n",
       "SEX                    0\n",
       "ETHNICITY              0\n",
       "ORIG_START             0\n",
       "DATE_TERM           5017\n",
       "PAY_STATUS             0\n",
       " ANNUAL_SALARY         0\n",
       " REGULAR_PAY           0\n",
       " OVERTIME_PAY          0\n",
       " INCENTIVE_PAY         0\n",
       " GROSS_PAY             0\n",
       "Unnamed: 17         6279\n",
       "dtype: int64"
      ]
     },
     "execution_count": 12,
     "metadata": {},
     "output_type": "execute_result"
    }
   ],
   "source": [
    "data.isnull().sum()"
   ]
  },
  {
   "cell_type": "code",
   "execution_count": 14,
   "id": "58064228-b235-4f3e-b50c-6e514c00d19b",
   "metadata": {},
   "outputs": [
    {
     "data": {
      "text/plain": [
       "FIRST_NAME          object\n",
       "LAST_NAME           object\n",
       "Combo Name          object\n",
       "DEPARTMENT          object\n",
       "JOB_TITLE           object\n",
       "ELECTED_OFFICIAL     int64\n",
       "DATE_STARTED        object\n",
       "SEX                 object\n",
       "ETHNICITY           object\n",
       "ORIG_START          object\n",
       "DATE_TERM           object\n",
       "PAY_STATUS          object\n",
       " ANNUAL_SALARY      object\n",
       " REGULAR_PAY        object\n",
       " OVERTIME_PAY       object\n",
       " INCENTIVE_PAY      object\n",
       " GROSS_PAY          object\n",
       "Unnamed: 17         object\n",
       "dtype: object"
      ]
     },
     "execution_count": 14,
     "metadata": {},
     "output_type": "execute_result"
    }
   ],
   "source": [
    "data.dtypes\n"
   ]
  },
  {
   "cell_type": "code",
   "execution_count": 18,
   "id": "53d6bc31-5815-497d-b80e-12fa80b857ef",
   "metadata": {},
   "outputs": [],
   "source": [
    "df['DATE_STARTED'] = pd.to_datetime(df['DATE_STARTED'])"
   ]
  },
  {
   "cell_type": "code",
   "execution_count": 21,
   "id": "809551fc-8697-4d43-a03c-591b1fdaf807",
   "metadata": {},
   "outputs": [
    {
     "name": "stdout",
     "output_type": "stream",
     "text": [
      "['FIRST_NAME', 'LAST_NAME', 'Combo Name', 'DEPARTMENT', 'JOB_TITLE', 'ELECTED_OFFICIAL', 'DATE_STARTED', 'SEX', 'ETHNICITY', 'ORIG_START', 'DATE_TERM', 'PAY_STATUS', ' ANNUAL_SALARY ', ' REGULAR_PAY ', ' OVERTIME_PAY ', ' INCENTIVE_PAY ', ' GROSS_PAY ', 'Unnamed: 17']\n"
     ]
    }
   ],
   "source": [
    "print(df.columns.tolist())"
   ]
  },
  {
   "cell_type": "code",
   "execution_count": 22,
   "id": "4a81e346-68da-4199-adbf-1c39653de9b8",
   "metadata": {},
   "outputs": [],
   "source": [
    "df.columns = df.columns.str.strip()"
   ]
  },
  {
   "cell_type": "code",
   "execution_count": 23,
   "id": "9bdd35af-85d7-419f-87d5-ac4e5c4973e7",
   "metadata": {},
   "outputs": [],
   "source": [
    "ts_data = df[['DATE_STARTED', 'GROSS_PAY']]"
   ]
  },
  {
   "cell_type": "code",
   "execution_count": 24,
   "id": "360b5ba0-81ad-4673-9d90-a22649c02e44",
   "metadata": {},
   "outputs": [],
   "source": [
    "model = Prophet()"
   ]
  },
  {
   "cell_type": "code",
   "execution_count": null,
   "id": "8bee72fb-c25c-4264-b0d5-ecc4050a1d7c",
   "metadata": {},
   "outputs": [],
   "source": []
  },
  {
   "cell_type": "code",
   "execution_count": 32,
   "id": "d40e6044-67a2-4323-87c1-404270a7f218",
   "metadata": {},
   "outputs": [],
   "source": [
    "\n",
    "df['DATE_STARTED'] = pd.to_datetime(df['DATE_STARTED'], errors='coerce')\n",
    "\n",
    "\n",
    "\n",
    "   \n",
    "\n",
    "   \n"
   ]
  },
  {
   "cell_type": "code",
   "execution_count": 33,
   "id": "5b79a5f3-e825-4471-b07a-fc42f1aa0d34",
   "metadata": {},
   "outputs": [],
   "source": [
    "# Check if GROSS_PAY is in the DataFrame after cleaning\n",
    "if 'GROSS_PAY' in df.columns:\n",
    "    # Create a new DataFrame for the time series\n",
    "    ts_data = df[['DATE_STARTED', 'GROSS_PAY']]\n"
   ]
  },
  {
   "cell_type": "code",
   "execution_count": 34,
   "id": "e13ea35c-a8be-4a3c-b399-d58d3508cb32",
   "metadata": {},
   "outputs": [
    {
     "name": "stderr",
     "output_type": "stream",
     "text": [
      "C:\\Users\\Sfundesihle\\AppData\\Local\\Temp\\ipykernel_3796\\2775740835.py:3: FutureWarning: 'M' is deprecated and will be removed in a future version, please use 'ME' instead.\n",
      "  ts_data = ts_data.resample('M').sum()\n"
     ]
    }
   ],
   "source": [
    "\n",
    "    # Group by month and sum GROSS_PAY to get total pay per month\n",
    "    ts_data.set_index('DATE_STARTED', inplace=True)\n",
    "    ts_data = ts_data.resample('M').sum()\n",
    "\n"
   ]
  },
  {
   "cell_type": "code",
   "execution_count": 35,
   "id": "e38bc29b-e411-4cae-915b-a168555ed9cc",
   "metadata": {},
   "outputs": [],
   "source": [
    "    # Reset index to create a new DataFrame suitable for Prophet\n",
    "    ts_data.reset_index(inplace=True)\n",
    "    ts_data.rename(columns={'DATE_STARTED': 'ds', 'GROSS_PAY': 'y'}, inplace=True)\n",
    "\n",
    "    "
   ]
  },
  {
   "cell_type": "code",
   "execution_count": 38,
   "id": "a59abcc0-fa1d-4ed9-b97c-bdf871d33a59",
   "metadata": {},
   "outputs": [
    {
     "name": "stdout",
     "output_type": "stream",
     "text": [
      "Prepared DataFrame for Prophet:\n",
      "            ds                                                  y\n",
      "0   1968-06-30                                         42,398.25 \n",
      "1   1968-07-31                                                  0\n",
      "2   1968-08-31                                                  0\n",
      "3   1968-09-30                                                  0\n",
      "4   1968-10-31                                                  0\n",
      "..         ...                                                ...\n",
      "651 2022-09-30   10,768.95  16,081.26  22,869.08  10,021.75  1...\n",
      "652 2022-10-31   8,680.63  11,867.14  12,632.91  8,711.97  2,8...\n",
      "653 2022-11-30   4,510.00  3,906.60  11,956.00  4,961.40  4,48...\n",
      "654 2022-12-31   2,941.60  1,804.50  1,804.50  1,362.56  1,634...\n",
      "655 2023-01-31        11,400.64  22,751.68  23,415.35  35,015.90 \n",
      "\n",
      "[656 rows x 2 columns]\n"
     ]
    }
   ],
   "source": [
    "# Display the prepared time series DataFrame\n",
    "print(\"Prepared DataFrame for Prophet:\")\n",
    "print(ts_data)\n",
    "    "
   ]
  },
  {
   "cell_type": "code",
   "execution_count": 61,
   "id": "2deb0891-6dca-40eb-a8e0-9f806637beea",
   "metadata": {},
   "outputs": [],
   "source": [
    "df['DATE_STARTED'] = pd.to_datetime(df['DATE_STARTED'], errors='coerce')"
   ]
  },
  {
   "cell_type": "code",
   "execution_count": 58,
   "id": "93df9465-b275-48bf-ac0e-e72283342ba5",
   "metadata": {},
   "outputs": [
    {
     "name": "stdout",
     "output_type": "stream",
     "text": [
      "Prepared DataFrame for Prophet:\n",
      "            ds           y\n",
      "0   1968-06-30    42398.25\n",
      "1   1968-07-31        0.00\n",
      "2   1968-08-31        0.00\n",
      "3   1968-09-30        0.00\n",
      "4   1968-10-31        0.00\n",
      "..         ...         ...\n",
      "651 2022-09-30  1071108.72\n",
      "652 2022-10-31   651032.47\n",
      "653 2022-11-30   513470.51\n",
      "654 2022-12-31   486522.14\n",
      "655 2023-01-31    92583.57\n",
      "\n",
      "[656 rows x 2 columns]\n"
     ]
    },
    {
     "name": "stderr",
     "output_type": "stream",
     "text": [
      "C:\\Users\\Sfundesihle\\AppData\\Local\\Temp\\ipykernel_3796\\3091575597.py:11: FutureWarning: 'M' is deprecated and will be removed in a future version, please use 'ME' instead.\n",
      "  ts_data = ts_data.resample('M').sum()\n"
     ]
    }
   ],
   "source": [
    "if 'GROSS_PAY' in df.columns:\n",
    "    # Clean the GROSS_PAY column\n",
    "    df['GROSS_PAY'] = df['GROSS_PAY'].replace({'\\$': '', ',': '', ' ': ''}, regex=True)  # Remove $ and commas\n",
    "    df['GROSS_PAY'] = pd.to_numeric(df['GROSS_PAY'], errors='coerce')  # Convert to numeric, coercing errors to NaN\n",
    "\n",
    "    # Create a new DataFrame for the time series\n",
    "    ts_data = df[['DATE_STARTED', 'GROSS_PAY']]\n",
    "\n",
    "    # Group by month and sum GROSS_PAY to get total pay per month\n",
    "    ts_data.set_index('DATE_STARTED', inplace=True)\n",
    "    ts_data = ts_data.resample('M').sum()\n",
    "\n",
    "    # Reset index to create a new DataFrame suitable for Prophet\n",
    "    ts_data.reset_index(inplace=True)\n",
    "    ts_data.rename(columns={'DATE_STARTED': 'ds', 'GROSS_PAY': 'y'}, inplace=True)\n",
    "\n",
    "    # Display the prepared time series DataFrame\n",
    "    print(\"Prepared DataFrame for Prophet:\")\n",
    "    print(ts_data)"
   ]
  },
  {
   "cell_type": "code",
   "execution_count": null,
   "id": "d6c9fab0-95c6-4e8b-b9d0-8e42938c56d9",
   "metadata": {},
   "outputs": [],
   "source": []
  },
  {
   "cell_type": "code",
   "execution_count": null,
   "id": "26656f4c-98aa-4ad3-ab7f-4faab7217d17",
   "metadata": {},
   "outputs": [],
   "source": []
  }
 ],
 "metadata": {
  "kernelspec": {
   "display_name": "Python 3 (ipykernel)",
   "language": "python",
   "name": "python3"
  },
  "language_info": {
   "codemirror_mode": {
    "name": "ipython",
    "version": 3
   },
   "file_extension": ".py",
   "mimetype": "text/x-python",
   "name": "python",
   "nbconvert_exporter": "python",
   "pygments_lexer": "ipython3",
   "version": "3.9.5"
  }
 },
 "nbformat": 4,
 "nbformat_minor": 5
}
